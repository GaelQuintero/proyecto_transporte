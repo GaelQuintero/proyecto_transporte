{
 "cells": [
  {
   "cell_type": "code",
   "execution_count": null,
   "metadata": {
    "vscode": {
     "languageId": "plaintext"
    }
   },
   "outputs": [],
   "source": [
    "# Analisis Exploratorio\n",
    "import pandas as pd\n",
    "import matplotlib.pyplot as plt\n",
    "import seaborn as sns\n",
    "\n",
    "# Cargar datos\n",
    "usuarios = pd.read_csv(\"../data/raw/user_information.csv\")\n",
    "viajes = pd.read_csv(\"../data/raw/use_transport.csv\")\n",
    "rutas = pd.read_csv(\"../data/raw/routes.csv\")\n",
    "\n",
    "# Integración de datos\n",
    "data = pd.merge(use_transport, user_information, on=\"idUser\")\n",
    "data = pd.merge(data, routes, on=\"idRoute\")\n",
    "\n",
    "# Análisis inicial\n",
    "print(data.head())\n",
    "print(data.describe())\n",
    "\n",
    "# Visualización: Distribución de costos de viaje\n",
    "plt.figure(figsize=(8, 5))\n",
    "sns.histplot(data[\"travelCost\"], kde=True, color=\"blue\")\n",
    "plt.title(\"Distribución de Costo del Viaje\")\n",
    "plt.xlabel(\"Costo\")\n",
    "plt.ylabel(\"Frecuencia\")\n",
    "plt.show()\n"
   ]
  }
 ],
 "metadata": {
  "language_info": {
   "name": "python"
  }
 },
 "nbformat": 4,
 "nbformat_minor": 2
}
